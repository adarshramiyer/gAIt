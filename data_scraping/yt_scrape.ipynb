{
  "cells": [
    {
      "cell_type": "code",
      "execution_count": 1,
      "metadata": {
        "colab": {
          "base_uri": "https://localhost:8080/",
          "height": 825
        },
        "id": "DnziQjQx2FZi",
        "outputId": "e55c006b-5627-4953-edd2-207ab6f88935"
      },
      "outputs": [],
      "source": [
        "# basic imports for web-scraping\n",
        "# note to self: use Python 3.9.0\n",
        "\n",
        "from selenium import webdriver\n",
        "from selenium.webdriver.common.by import By\n",
        "from webdriver_manager.chrome import ChromeDriverManager\n",
        "from requests import Timeout\n",
        "import time, pytube"
      ]
    },
    {
      "cell_type": "code",
      "execution_count": 2,
      "metadata": {
        "id": "Z0Kdhjzp4cob"
      },
      "outputs": [],
      "source": [
        "def youtube_scrape(search_query, num_results): # retrieving results from youtube\n",
        "  driver = webdriver.Chrome(r'\\\\chromedriver')\n",
        "  results_links = []\n",
        "\n",
        "  link = \"https://www.youtube.com/results?search_query=\" + search_query\n",
        "  driver.get(link)\n",
        "\n",
        "  start_time = time.time()\n",
        "  delta_time = time.time() - start_time\n",
        "\n",
        "  while delta_time < 5: #loop loads elements for 5 seconds or until last result is reached (edge case)\n",
        "    end_result = driver.find_element(By.CSS_SELECTOR, '#message').is_displayed()\n",
        "    driver.execute_script(\"var scrollingElement = (document.scrollingElement || document.body);scrollingElement.scrollTop = scrollingElement.scrollHeight;\")\n",
        "    # print(end_result)\n",
        "    delta_time = time.time() - start_time\n",
        "    print(\"DELTA TIME: \" + str(delta_time))\n",
        "    if (end_result): \n",
        "      break\n",
        "  \n",
        "  print(\"Extracting results...\")\n",
        "  i = 1\n",
        "  for result in driver.find_elements(By.CSS_SELECTOR, '.text-wrapper.style-scope.ytd-video-renderer'):\n",
        "    link = result.find_element(By.CSS_SELECTOR, '.title-and-badge.style-scope.ytd-video-renderer a').get_attribute('href')\n",
        "    #label = result.find_element(By.CSS_SELECTOR, '.title-and-badge.style-scope.ytd-video-renderer a').get_attribute('aria-label')\n",
        "\n",
        "    results_links.append(link)\n",
        "    i += 1\n",
        "    if (i > num_results):\n",
        "      break\n",
        "\n",
        "  if (len(results_links) > 0):\n",
        "    print(results_links[0])\n",
        "  print(\"LENGTH OF RESULTS: \" + str(len(results_links)))\n",
        "\n",
        "  return results_links"
      ]
    },
    {
      "cell_type": "code",
      "execution_count": 3,
      "metadata": {
        "colab": {
          "base_uri": "https://localhost:8080/",
          "height": 437
        },
        "id": "Lr0ELG15p-GB",
        "outputId": "84128498-f926-4511-bb8c-e10bb0dcd055"
      },
      "outputs": [],
      "source": [
        "# searching youtube for the listed queries and taking weighted amounts of each (takes approx. 3 mins)\n",
        "\n",
        "search_queries = [\"running form\", \"bad running form example\", \"running form mistakes posetv\", \"running overstriding example\", \"gait analysis\", \n",
        "                    \"heel-strike running example\", \"poor running form\", \"marathon highlights\", \"cross country running\", \"5000m race\", \"10000m race\", \"kenya track workout\", \n",
        "                    \"paul chelimo\", \"timothy cheruiyot\", \"long distance running luis orta\", \"kitata running form\", \"elite long run\", \"sweat elite training sessions\"]\n",
        "search_weights = [10, 20, 10, 10, 10, 10, 20, 10, 40, 20, 20, 20, 20, 20, 20, 5, 10, 20]\n",
        "res = [] # list holding all results\n",
        "\n",
        "input_file = open(\".\\\\Web_Scrape_Precut\\\\web-scraped-links.txt\", \"r\")\n",
        "first_char = input_file.read(1)\n",
        "\n",
        "if not first_char:  # if not yet scraped, scrape the web for yt links\n",
        "    for i in range(len(search_queries)):\n",
        "        temp_res = youtube_scrape(search_queries[i], search_weights[i])\n",
        "        for j in range(len(temp_res)):\n",
        "            res.append(temp_res[j])\n",
        "\n",
        "    print(\"\\n\\nFINAL RESULTS\\n\\n\")\n",
        "    for j in range(len(res)):\n",
        "        print(res[j])\n",
        "        print(\"\\n\")\n",
        "\n",
        "else:               # already scraped, read links from file\n",
        "    input_file.seek(0)\n",
        "    res.clear()\n",
        "    res = input_file.read().split('\\n')"
      ]
    },
    {
      "cell_type": "code",
      "execution_count": null,
      "metadata": {},
      "outputs": [],
      "source": [
        "# downloading the videos from youtube\n",
        "\n",
        "def videoName(i):\n",
        "    ret = str(i)\n",
        "    while (len(ret) < 4):\n",
        "        ret = \"0\" + ret\n",
        "    return \"WS-NL-NC-\" + ret # web scraped-no label-no cut-example number\n",
        "\n",
        "counter = 0\n",
        "already_downloaded = -1\n",
        "\n",
        "for url in res:\n",
        "    if (counter <= already_downloaded):\n",
        "        counter += 1 \n",
        "        continue\n",
        "    try:\n",
        "        #with Timeout(600):\n",
        "        print('p1')\n",
        "        youtube = pytube.YouTube(url)\n",
        "        print (url)\n",
        "        vid = youtube.streams.filter(file_extension='mp4').filter(resolution='360p').first()\n",
        "        print('p3')\n",
        "        vid.download(output_path=\".\\\\Web_Scrape_Precut\", filename=(videoName(counter) + \".mp4\"))\n",
        "        print(videoName(counter) + ' downloaded')\n",
        "    except:\n",
        "        print(\"\\nFAILED TO DOWNLOAD \" + str(videoName(counter)) + \"\\n\")\n",
        "    counter += 1\n"
      ]
    }
  ],
  "metadata": {
    "colab": {
      "provenance": []
    },
    "kernelspec": {
      "display_name": "Python 3",
      "language": "python",
      "name": "python3"
    },
    "language_info": {
      "codemirror_mode": {
        "name": "ipython",
        "version": 3
      },
      "file_extension": ".py",
      "mimetype": "text/x-python",
      "name": "python",
      "nbconvert_exporter": "python",
      "pygments_lexer": "ipython3",
      "version": "3.9.0"
    },
    "vscode": {
      "interpreter": {
        "hash": "59acfcc823b36a638b37cb1c7843aa46684cb4b3e7f7aef341e5384d13f48e0e"
      }
    }
  },
  "nbformat": 4,
  "nbformat_minor": 0
}
