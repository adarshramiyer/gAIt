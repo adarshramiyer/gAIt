{
 "cells": [
  {
   "cell_type": "code",
   "execution_count": 1,
   "metadata": {},
   "outputs": [],
   "source": [
    "import os\n",
    "import numpy as np\n",
    "import csv\n",
    "import matplotlib.pyplot as plt\n",
    "\n",
    "from tslearn.utils import to_time_series_dataset\n",
    "from tslearn.shapelets import LearningShapelets"
   ]
  },
  {
   "cell_type": "code",
   "execution_count": 2,
   "metadata": {},
   "outputs": [],
   "source": [
    "# helper functions\n",
    "\n",
    "def series_append(series, list, keys):\n",
    "    for i in range(64):\n",
    "        series[keys[i]].append(float(list[i]))\n",
    "    return series\n",
    "\n",
    "def load_series(filename):\n",
    "    with open(filename, 'r') as csv_in:\n",
    "        csv_file = list(csv.reader(csv_in))\n",
    "        series = {}\n",
    "        keys = csv_file[0]\n",
    "        for key in keys: series[key] = []\n",
    "        for i in range(2, len(csv_file), 2):\n",
    "            series = series_append(series, csv_file[i], keys)\n",
    "        return [series, int((len(csv_file) - 2) / 2)]\n",
    "\n",
    "def series_to_arr(series):\n",
    "    l = []\n",
    "    for key in series:\n",
    "        if (key[-1] == 'v'): continue\n",
    "        l += (series[key])\n",
    "    return l\n",
    "\n",
    "def E3(pred, truth):\n",
    "    num_correct = 0\n",
    "    for i in range(len(pred)):\n",
    "        if (abs(pred[i] - truth[i]) <= 3):\n",
    "            num_correct += 1\n",
    "    return (100.0 * float(num_correct) / float(len(pred)))\n",
    "\n",
    "def E2(pred, truth):\n",
    "    num_correct = 0\n",
    "    for i in range(len(pred)):\n",
    "        if (abs(pred[i] - truth[i]) <= 2):\n",
    "            num_correct += 1\n",
    "    return (100.0 * float(num_correct) / float(len(pred)))\n",
    "\n",
    "def E1(pred, truth):\n",
    "    num_correct = 0\n",
    "    for i in range(len(pred)):\n",
    "        if (abs(pred[i] - truth[i]) <= 1):\n",
    "            num_correct += 1\n",
    "    return (100.0 * float(num_correct) / float(len(pred)))\n",
    "\n",
    "def E0(pred, truth):\n",
    "    num_correct = 0\n",
    "    for i in range(len(pred)):\n",
    "        if (abs(pred[i] - truth[i]) == 0):\n",
    "            num_correct += 1\n",
    "    return (100.0 * float(num_correct) / float(len(pred)))"
   ]
  },
  {
   "cell_type": "code",
   "execution_count": 3,
   "metadata": {},
   "outputs": [],
   "source": [
    "# loading train and test sets\n",
    "\n",
    "raw_X_train = []\n",
    "raw_X_test = []\n",
    "smoothed_X_train = []\n",
    "smoothed_X_test = []\n",
    "translate_X_train = []\n",
    "translate_X_test = []\n",
    "final_X_train = []\n",
    "final_X_test = []\n",
    "\n",
    "o_label_train = []\n",
    "o_label_test = []\n",
    "\n",
    "f_label_train = []\n",
    "f_label_test = []\n",
    "\n",
    "b_label_train = []\n",
    "b_label_test = []\n",
    "\n",
    "s_label_train = []\n",
    "s_label_test = []\n",
    "\n",
    "l_label_train = []\n",
    "l_label_test = []\n",
    "\n",
    "with open(\"..\\\\training_examples.txt\") as t:\n",
    "    training_examples = t.readlines()\n",
    "\n",
    "with open(\"..\\\\test_examples.txt\") as t:\n",
    "    test_examples = t.readlines()\n",
    "\n",
    "for file in training_examples:\n",
    "    raw_series, num_frames = load_series('..\\\\time_series\\\\Time_normalized_stages\\\\1_unprocessed\\\\' + file[:-1])\n",
    "    smoothed_series, num_frames = load_series('..\\\\time_series\\\\Time_normalized_stages\\\\2_smoothed\\\\' + file[:-1])\n",
    "    translate_series, num_frames = load_series('..\\\\time_series\\\\Time_normalized_stages\\\\3_translation\\\\' + file[:-1])\n",
    "    final_series, num_frames = load_series('..\\\\time_series\\\\Time_normalized_stages\\\\4_final\\\\' + file[:-1])\n",
    "\n",
    "    raw_X_train.append(series_to_arr(raw_series))\n",
    "    smoothed_X_train.append(series_to_arr(smoothed_series))\n",
    "    translate_X_train.append(series_to_arr(translate_series))\n",
    "    final_X_train.append(series_to_arr(final_series))\n",
    "\n",
    "    o_label_train.append(int(file[4]))\n",
    "    f_label_train.append(int(file[7]))\n",
    "    b_label_train.append(int(file[10]))\n",
    "    s_label_train.append(int(file[13]))\n",
    "    l_label_train.append(int(file[16]))\n",
    "\n",
    "for file in test_examples:\n",
    "    raw_series, num_frames = load_series('..\\\\time_series\\\\Time_normalized_stages\\\\1_unprocessed\\\\' + file[:-1])\n",
    "    smoothed_series, num_frames = load_series('..\\\\time_series\\\\Time_normalized_stages\\\\2_smoothed\\\\' + file[:-1])\n",
    "    translate_series, num_frames = load_series('..\\\\time_series\\\\Time_normalized_stages\\\\3_translation\\\\' + file[:-1])\n",
    "    final_series, num_frames = load_series('..\\\\time_series\\\\Time_normalized_stages\\\\4_final\\\\' + file[:-1])\n",
    "\n",
    "    raw_X_test.append(series_to_arr(raw_series))\n",
    "    smoothed_X_test.append(series_to_arr(smoothed_series))\n",
    "    translate_X_test.append(series_to_arr(translate_series))\n",
    "    final_X_test.append(series_to_arr(final_series))\n",
    "\n",
    "    o_label_test.append(int(file[4]))\n",
    "    f_label_test.append(int(file[7]))\n",
    "    b_label_test.append(int(file[10]))\n",
    "    s_label_test.append(int(file[13]))\n",
    "    l_label_test.append(int(file[16]))\n",
    "\n",
    "raw_X_train = to_time_series_dataset(raw_X_train)\n",
    "raw_X_test = to_time_series_dataset(raw_X_test)\n",
    "\n",
    "smoothed_X_train = to_time_series_dataset(smoothed_X_train)\n",
    "smoothed_X_test = to_time_series_dataset(smoothed_X_test)\n",
    "\n",
    "translate_X_train = to_time_series_dataset(translate_X_train)\n",
    "translate_X_test = to_time_series_dataset(translate_X_test)\n",
    "\n",
    "final_X_train = to_time_series_dataset(final_X_train)\n",
    "final_X_test = to_time_series_dataset(final_X_test)"
   ]
  },
  {
   "cell_type": "code",
   "execution_count": 10,
   "metadata": {},
   "outputs": [
    {
     "name": "stderr",
     "output_type": "stream",
     "text": [
      "c:\\Users\\adars\\AppData\\Local\\Programs\\Python\\Python39\\lib\\site-packages\\tslearn\\shapelets\\shapelets.py:354: FutureWarning: The default value for 'scale' is set to False in version 0.4 to ensure backward compatibility, but is likely to change in a future version.\n",
      "  warnings.warn(\"The default value for 'scale' is set to False \"\n"
     ]
    },
    {
     "name": "stdout",
     "output_type": "stream",
     "text": [
      "oclf fitted\n"
     ]
    },
    {
     "name": "stderr",
     "output_type": "stream",
     "text": [
      "c:\\Users\\adars\\AppData\\Local\\Programs\\Python\\Python39\\lib\\site-packages\\tslearn\\shapelets\\shapelets.py:354: FutureWarning: The default value for 'scale' is set to False in version 0.4 to ensure backward compatibility, but is likely to change in a future version.\n",
      "  warnings.warn(\"The default value for 'scale' is set to False \"\n"
     ]
    },
    {
     "name": "stdout",
     "output_type": "stream",
     "text": [
      "fclf fitted\n"
     ]
    },
    {
     "name": "stderr",
     "output_type": "stream",
     "text": [
      "c:\\Users\\adars\\AppData\\Local\\Programs\\Python\\Python39\\lib\\site-packages\\tslearn\\shapelets\\shapelets.py:354: FutureWarning: The default value for 'scale' is set to False in version 0.4 to ensure backward compatibility, but is likely to change in a future version.\n",
      "  warnings.warn(\"The default value for 'scale' is set to False \"\n"
     ]
    },
    {
     "name": "stdout",
     "output_type": "stream",
     "text": [
      "bclf fitted\n"
     ]
    },
    {
     "name": "stderr",
     "output_type": "stream",
     "text": [
      "c:\\Users\\adars\\AppData\\Local\\Programs\\Python\\Python39\\lib\\site-packages\\tslearn\\shapelets\\shapelets.py:354: FutureWarning: The default value for 'scale' is set to False in version 0.4 to ensure backward compatibility, but is likely to change in a future version.\n",
      "  warnings.warn(\"The default value for 'scale' is set to False \"\n"
     ]
    },
    {
     "name": "stdout",
     "output_type": "stream",
     "text": [
      "sclf fitted\n"
     ]
    },
    {
     "name": "stderr",
     "output_type": "stream",
     "text": [
      "c:\\Users\\adars\\AppData\\Local\\Programs\\Python\\Python39\\lib\\site-packages\\tslearn\\shapelets\\shapelets.py:354: FutureWarning: The default value for 'scale' is set to False in version 0.4 to ensure backward compatibility, but is likely to change in a future version.\n",
      "  warnings.warn(\"The default value for 'scale' is set to False \"\n"
     ]
    },
    {
     "name": "stdout",
     "output_type": "stream",
     "text": [
      "lclf fitted\n"
     ]
    }
   ],
   "source": [
    "oclf = LearningShapelets(n_shapelets_per_size = {4:3}, max_iter=100, verbose = 0)\n",
    "oclf.fit(raw_X_train, o_label_train)\n",
    "print('oclf fitted')\n",
    "fclf = LearningShapelets(n_shapelets_per_size = {4:3}, max_iter=100, verbose = 0)\n",
    "fclf.fit(raw_X_train, f_label_train)\n",
    "print('fclf fitted')\n",
    "bclf = LearningShapelets(n_shapelets_per_size = {4:3}, max_iter=100, verbose = 0)\n",
    "bclf.fit(raw_X_train, b_label_train)\n",
    "print('bclf fitted')\n",
    "sclf = LearningShapelets(n_shapelets_per_size = {4:3}, max_iter=100, verbose = 0)\n",
    "sclf.fit(raw_X_train, s_label_train)\n",
    "print('sclf fitted')\n",
    "lclf = LearningShapelets(n_shapelets_per_size = {4:3}, max_iter=100, verbose = 0)\n",
    "lclf.fit(raw_X_train, l_label_train)\n",
    "print('lclf fitted')"
   ]
  }
 ],
 "metadata": {
  "kernelspec": {
   "display_name": "Python 3",
   "language": "python",
   "name": "python3"
  },
  "language_info": {
   "codemirror_mode": {
    "name": "ipython",
    "version": 3
   },
   "file_extension": ".py",
   "mimetype": "text/x-python",
   "name": "python",
   "nbconvert_exporter": "python",
   "pygments_lexer": "ipython3",
   "version": "3.9.0 (tags/v3.9.0:9cf6752, Oct  5 2020, 15:34:40) [MSC v.1927 64 bit (AMD64)]"
  },
  "orig_nbformat": 4,
  "vscode": {
   "interpreter": {
    "hash": "59acfcc823b36a638b37cb1c7843aa46684cb4b3e7f7aef341e5384d13f48e0e"
   }
  }
 },
 "nbformat": 4,
 "nbformat_minor": 2
}
