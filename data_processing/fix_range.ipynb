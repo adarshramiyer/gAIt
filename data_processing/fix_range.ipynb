{
 "cells": [
  {
   "cell_type": "code",
   "execution_count": 1,
   "metadata": {},
   "outputs": [],
   "source": [
    "import os\n",
    "import numpy as np\n",
    "import lmfit\n",
    "import csv\n",
    "import matplotlib.pyplot as plt"
   ]
  },
  {
   "cell_type": "code",
   "execution_count": null,
   "metadata": {},
   "outputs": [],
   "source": [
    "\n",
    "def write_csv(filename, series):\n",
    "    with open('..\\\\time_series\\\\Time_normalized_stages\\\\3_translation\\\\' + filename, 'w') as csv_out:\n",
    "        writer = csv.writer(csv_out)\n",
    "        writer.writerow(series.keys())\n",
    "        writer.writerows(zip(*series.values()))\n",
    "\n",
    "def series_append(series, list, keys):\n",
    "    for i in range(64):\n",
    "        series[keys[i]].append(float(list[i]))\n",
    "    return series\n",
    "\n",
    "def load_series(filename):\n",
    "    with open(filename, 'r') as csv_in:\n",
    "        csv_file = list(csv.reader(csv_in))\n",
    "        series = {}\n",
    "        keys = csv_file[0]\n",
    "        for key in keys: series[key] = []\n",
    "        for i in range(2, len(csv_file), 2):\n",
    "            series = series_append(series, csv_file[i], keys)\n",
    "        return [series, int((len(csv_file) - 2) / 2)]"
   ]
  }
 ],
 "metadata": {
  "kernelspec": {
   "display_name": "Python 3",
   "language": "python",
   "name": "python3"
  },
  "language_info": {
   "codemirror_mode": {
    "name": "ipython",
    "version": 3
   },
   "file_extension": ".py",
   "mimetype": "text/x-python",
   "name": "python",
   "nbconvert_exporter": "python",
   "pygments_lexer": "ipython3",
   "version": "3.9.0"
  },
  "orig_nbformat": 4,
  "vscode": {
   "interpreter": {
    "hash": "59acfcc823b36a638b37cb1c7843aa46684cb4b3e7f7aef341e5384d13f48e0e"
   }
  }
 },
 "nbformat": 4,
 "nbformat_minor": 2
}
