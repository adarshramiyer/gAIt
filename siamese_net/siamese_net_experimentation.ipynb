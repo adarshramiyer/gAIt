{
 "cells": [
  {
   "cell_type": "code",
   "execution_count": 45,
   "metadata": {},
   "outputs": [],
   "source": [
    "import os\n",
    "import csv\n",
    "import torch\n",
    "import torch.nn as nn\n",
    "import torch.nn.functional as F\n",
    "import numpy as np\n",
    "import matplotlib.pyplot as plt"
   ]
  },
  {
   "cell_type": "code",
   "execution_count": 46,
   "metadata": {},
   "outputs": [],
   "source": [
    "# helper functions\n",
    "\n",
    "def series_append(series, list, keys):\n",
    "    for i in range(64):\n",
    "        series[keys[i]].append(float(list[i]))\n",
    "    return series\n",
    "\n",
    "def load_series(filename):\n",
    "    with open(filename, 'r') as csv_in:\n",
    "        csv_file = list(csv.reader(csv_in))\n",
    "        series = {}\n",
    "        keys = csv_file[0]\n",
    "        for key in keys: series[key] = []\n",
    "        for i in range(2, len(csv_file), 2):\n",
    "            series = series_append(series, csv_file[i], keys)\n",
    "        return [series, int((len(csv_file) - 2) / 2)]\n",
    "\n",
    "def unroll(series):\n",
    "    l = []\n",
    "    for key in series:\n",
    "        if (key[-1] == 'v' or key[-1] == 'z'): continue\n",
    "        l.append += series[key]\n",
    "    return l\n",
    "\n",
    "def add_shift(series):\n",
    "    scale_factor = 0.2\n",
    "    for key in series:\n",
    "        if (key[-1] != 'z' and key[-1] != 'v'):\n",
    "            rand_num = np.random.rand() * scale_factor - (scale_factor / 2)\n",
    "            series[key] = [x + rand_num for x in series[key]]\n",
    "    return series\n",
    "\n",
    "def add_noise(series):\n",
    "    scale_factor = 0.05\n",
    "    for key in series:\n",
    "        if (key[-1] != 'z' and key[-1] != 'v'):\n",
    "            rand_num = np.random.rand() * scale_factor - (scale_factor / 2)\n",
    "            series[key] = [x + (np.random.rand() * scale_factor - (scale_factor / 2)) for x in series[key]]\n",
    "    return series\n",
    "\n",
    "def rand_augment(series):\n",
    "    series = add_shift(series)\n",
    "    series = add_noise(series)\n",
    "    return series\n",
    "\n",
    "def E3(pred, truth):\n",
    "    num_correct = 0\n",
    "    for i in range(len(pred)):\n",
    "        if (abs(pred[i] - truth[i]) <= 3.5):\n",
    "            num_correct += 1\n",
    "    return (100.0 * float(num_correct) / float(len(pred)))\n",
    "\n",
    "def E2(pred, truth):\n",
    "    num_correct = 0\n",
    "    for i in range(len(pred)):\n",
    "        if (abs(pred[i] - truth[i]) <= 2.5):\n",
    "            num_correct += 1\n",
    "    return (100.0 * float(num_correct) / float(len(pred)))\n",
    "\n",
    "def E1(pred, truth):\n",
    "    num_correct = 0\n",
    "    for i in range(len(pred)):\n",
    "        if (abs(pred[i] - truth[i]) <= 1.5):\n",
    "            num_correct += 1\n",
    "    return (100.0 * float(num_correct) / float(len(pred)))\n",
    "\n",
    "def E0(pred, truth):\n",
    "    num_correct = 0\n",
    "    for i in range(len(pred)):\n",
    "        if (abs(pred[i] - truth[i]) <= 0.5):\n",
    "            num_correct += 1\n",
    "    return (100.0 * float(num_correct) / float(len(pred)))"
   ]
  },
  {
   "cell_type": "code",
   "execution_count": 47,
   "metadata": {},
   "outputs": [],
   "source": [
    "# defining contrastive loss function\n",
    "\n",
    "class ContrastiveLoss(nn.Module):\n",
    "    def __init__(self, margin=2.0):\n",
    "            super(ContrastiveLoss, self).__init__()\n",
    "            self.margin = margin\n",
    "\n",
    "    def forward(self, output1, output2, label):\n",
    "        euclidean_distance = F.pairwise_distance(output1, output2)\n",
    "        loss = torch.mean((1-label) * torch.pow(euclidean_distance, 2) +\n",
    "        (label) * torch.pow(torch.clamp(self.margin - euclidean_distance, min=0.0), 2))\n",
    "\n",
    "        return loss"
   ]
  },
  {
   "cell_type": "code",
   "execution_count": 48,
   "metadata": {},
   "outputs": [],
   "source": [
    "# defining siamese network\n",
    "\n",
    "input_size = 224\n",
    "fc_1 = 500\n",
    "fc_2 = 400\n",
    "fc_3 = 300\n",
    "fc_4 = 200\n",
    "fc_5 = 100\n",
    "fc_6 = 50\n",
    "output_size = 5\n",
    "\n",
    "class SiameseNetwork(nn.Module):\n",
    "    def __init__(self):\n",
    "        super(SiameseNetwork, self).__init__()\n",
    "        self.fc1 = nn.Linear(input_size, fc_1)\n",
    "        self.fc2 = nn.Linear(fc_1, fc_2)\n",
    "        self.fc3 = nn.Linear(fc_2, fc_3)\n",
    "        self.fc4 = nn.Linear(fc_3, fc_4)\n",
    "        self.fc5 = nn.Linear(fc_4, fc_5)\n",
    "        self.fc6 = nn.Linear(fc_5, fc_6)\n",
    "        self.fc7 = nn.Linear(fc_6, output_size)\n",
    "\n",
    "    def forward(self, x1, x2):\n",
    "        x1 = F.relu(self.fc1(x1))\n",
    "        x1 = F.relu(self.fc2(x1))\n",
    "        x1 = F.relu(self.fc3(x1))\n",
    "        x1 = F.relu(self.fc4(x1))\n",
    "        x1 = F.relu(self.fc5(x1))\n",
    "        x1 = F.relu(self.fc6(x1))\n",
    "        x1 = F.relu(self.fc7(x1))\n",
    "\n",
    "        x2 = F.relu(self.fc1(x2))\n",
    "        x2 = F.relu(self.fc2(x2))\n",
    "        x2 = F.relu(self.fc3(x2))\n",
    "        x2 = F.relu(self.fc4(x2))\n",
    "        x2 = F.relu(self.fc5(x2))\n",
    "        x2 = F.relu(self.fc6(x2))\n",
    "        x2 = F.relu(self.fc7(x2))\n",
    "\n",
    "        return x1, x2"
   ]
  },
  {
   "cell_type": "code",
   "execution_count": 49,
   "metadata": {},
   "outputs": [
    {
     "data": {
      "text/plain": [
       "[<matplotlib.lines.Line2D at 0x1fbbd4c01f0>]"
      ]
     },
     "execution_count": 49,
     "metadata": {},
     "output_type": "execute_result"
    },
    {
     "data": {
      "image/png": "[encoded data removed]",
      "text/plain": [
       "<Figure size 300x500 with 1 Axes>"
      ]
     },
     "metadata": {},
     "output_type": "display_data"
    }
   ],
   "source": [
    "# testing augmentation strength\n",
    "\n",
    "series, num_frames = load_series(\"..\\\\time_series\\\\Time_normalized_stages\\\\4_final\\\\WS-O1-F0-B5-S4-L0-L-0102.csv\")\n",
    "\n",
    "fig, ax = plt.subplots(1, figsize=(3, 5))\n",
    "\n",
    "raw_x = []\n",
    "raw_y = []\n",
    "\n",
    "for key in series:\n",
    "    if (key[-1] == 'x'):\n",
    "        raw_x.append(series[key][2])\n",
    "    elif (key[-1] == 'y'):\n",
    "        raw_y.append(series[key][2])\n",
    "\n",
    "series = rand_augment(series)\n",
    "\n",
    "aug_x = []\n",
    "aug_y = []\n",
    "\n",
    "for key in series:\n",
    "    if (key[-1] == 'x'):\n",
    "        aug_x.append(series[key][2])\n",
    "    elif (key[-1] == 'y'):\n",
    "        aug_y.append(series[key][2])\n",
    "\n",
    "ax.plot(raw_x, raw_y, '.', c='r')\n",
    "ax.plot(aug_x, aug_y, '.', color='gray')"
   ]
  }
 ],
 "metadata": {
  "kernelspec": {
   "display_name": "Python 3",
   "language": "python",
   "name": "python3"
  },
  "language_info": {
   "codemirror_mode": {
    "name": "ipython",
    "version": 3
   },
   "file_extension": ".py",
   "mimetype": "text/x-python",
   "name": "python",
   "nbconvert_exporter": "python",
   "pygments_lexer": "ipython3",
   "version": "3.9.0"
  },
  "orig_nbformat": 4,
  "vscode": {
   "interpreter": {
    "hash": "59acfcc823b36a638b37cb1c7843aa46684cb4b3e7f7aef341e5384d13f48e0e"
   }
  }
 },
 "nbformat": 4,
 "nbformat_minor": 2
}
